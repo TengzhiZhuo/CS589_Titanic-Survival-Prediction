{
 "cells": [
  {
   "cell_type": "code",
   "execution_count": 1,
   "metadata": {},
   "outputs": [],
   "source": [
    "import pandas as pd\n",
    "import numpy as np\n",
    "import matplotlib.pyplot as plt\n",
    "from sklearn import svm\n",
    "from sklearn.neural_network import MLPClassifier\n",
    "from sklearn.tree import DecisionTreeClassifier\n",
    "from sklearn.preprocessing import StandardScaler\n",
    "from sklearn.model_selection import GridSearchCV, KFold\n",
    "import csv\n",
    "from sklearn.model_selection import LearningCurveDisplay, ShuffleSplit"
   ]
  },
  {
   "cell_type": "markdown",
   "metadata": {},
   "source": [
    "### Data Processing"
   ]
  },
  {
   "cell_type": "code",
   "execution_count": 2,
   "metadata": {},
   "outputs": [],
   "source": [
    "#Get the mean value for each person's title in each class\n",
    "def see_survived_by_age_train(lst):\n",
    "    p1 = {}\n",
    "    p2 = {}\n",
    "    p3 = {}\n",
    "    for person in lst:\n",
    "        if person[5] >= 0:\n",
    "            tmp = person[3].split('.')\n",
    "            tmp = tmp[0].split()\n",
    "            title = tmp[-1]\n",
    "            if person[2] == 1:\n",
    "                if title not in p1:\n",
    "                    p1[title] = []\n",
    "                p1[title].append(person[5])\n",
    "            elif person[2] == 2:\n",
    "                if title not in p2:\n",
    "                    p2[title] = []\n",
    "                p2[title].append(person[5])\n",
    "            else:\n",
    "                if title not in p3:\n",
    "                    p3[title] = []\n",
    "                p3[title].append(person[5])\n",
    "    for title in p1:\n",
    "        p1[title] = np.mean(p1[title])\n",
    "    for title in p2:\n",
    "        p2[title] = np.mean(p2[title])\n",
    "    for title in p3:\n",
    "        p3[title] = np.mean(p3[title])\n",
    "\n",
    "    return p1, p2, p3\n",
    "\n",
    "#Set the people with nan age with the mean value of the corresponding title and class\n",
    "def assign_age_to_unknown_train(lst, p1, p2, p3):\n",
    "    for person in lst:\n",
    "        if not person[5] >= 0:\n",
    "            tmp = person[3].split('.')\n",
    "            tmp = tmp[0].split()\n",
    "            title = tmp[-1]\n",
    "            if person[2] == 1:\n",
    "                person[5] = p1[title] \n",
    "            elif person[2] == 2:\n",
    "                person[5] = p2[title]\n",
    "            else:\n",
    "                person[5] = p3[title]"
   ]
  },
  {
   "cell_type": "code",
   "execution_count": 3,
   "metadata": {},
   "outputs": [],
   "source": [
    "setloader = np.array(pd.read_csv(\"train.csv\"))\n",
    "p1, p2, p3 = see_survived_by_age_train(setloader)\n",
    "assign_age_to_unknown_train(setloader, p1, p2, p3)\n",
    "setloader = np.delete(setloader, 0, axis=1)\n",
    "setloader = np.delete(setloader, 2, axis=1)\n",
    "setloader = np.delete(setloader, 6, axis=1)\n",
    "setloader = setloader[:, :-2]\n",
    "setloader[:, 2] = np.where(setloader[:, 2] == \"male\", 0, 1)\n",
    "setloader = setloader.astype(float)\n",
    "\n",
    "# Split the dataset into features (X) and labels (y)\n",
    "X = setloader[:, 1:]\n",
    "y = setloader[:, 0]"
   ]
  },
  {
   "cell_type": "markdown",
   "metadata": {},
   "source": [
    "Load Test Set"
   ]
  },
  {
   "cell_type": "code",
   "execution_count": 4,
   "metadata": {},
   "outputs": [],
   "source": [
    "#Samething as the train set, we add replace the nan age with the mean of corresponding title and class\n",
    "#Except the test set also has nan values on the feature fares, so I replaced the nan fares with the same idea\n",
    "def see_survived_by_age_test(lst):\n",
    "    p1 = {}\n",
    "    p2 = {}\n",
    "    p3 = {}\n",
    "    for person in lst:\n",
    "        if person[4] >= 0:\n",
    "            tmp = person[2].split('.')\n",
    "            tmp = tmp[0].split()\n",
    "            title = tmp[-1]\n",
    "            if person[1] == 1:\n",
    "                if title not in p1:\n",
    "                    p1[title] = {}\n",
    "                    p1[title][\"age\"] = []\n",
    "                p1[title][\"age\"].append(person[4])\n",
    "            elif person[1] == 2:\n",
    "                if title not in p2:\n",
    "                    p2[title] = {}\n",
    "                    p2[title][\"age\"] = []\n",
    "                p2[title][\"age\"].append(person[4])\n",
    "            else:\n",
    "                if title not in p3:\n",
    "                    p3[title] = {}\n",
    "                    p3[title][\"age\"] = []\n",
    "                p3[title][\"age\"].append(person[4])\n",
    "    for person in lst:\n",
    "        if person[8] >= 0:\n",
    "            tmp = person[2].split('.')\n",
    "            tmp = tmp[0].split()\n",
    "            title = tmp[-1]\n",
    "            if person[1] == 1:\n",
    "                if \"fare\" not in p1[title]:\n",
    "                    p1[title][\"fare\"] = []\n",
    "                p1[title][\"fare\"].append(person[8])\n",
    "            elif person[1] == 2:\n",
    "                if \"fare\" not in p2[title]:\n",
    "                    p2[title][\"fare\"] = []\n",
    "                p2[title][\"fare\"].append(person[8])\n",
    "            else:\n",
    "                if title not in p3:\n",
    "                    p3[title] = {}\n",
    "                if \"fare\" not in p3[title]:\n",
    "                    p3[title][\"fare\"] = []\n",
    "                p3[title][\"fare\"].append(person[8])\n",
    "    for title in p1:\n",
    "        p1[title][\"age\"] = np.mean(p1[title][\"age\"])\n",
    "        p1[title][\"fare\"] = np.mean(p1[title][\"fare\"])\n",
    "    for title in p2:\n",
    "        p2[title][\"age\"] = np.mean(p2[title][\"age\"])\n",
    "        p2[title][\"fare\"] = np.mean(p2[title][\"fare\"])\n",
    "    for title in p3:\n",
    "        p3[title][\"fare\"] = np.mean(p3[title][\"fare\"])\n",
    "        try:\n",
    "            p3[title][\"age\"] = np.mean(p3[title][\"age\"])\n",
    "        except:\n",
    "            continue\n",
    "\n",
    "    return p1, p2, p3\n",
    "\n",
    "def assign_age_fare_to_unknown_test(lst, p1, p2, p3):\n",
    "    for person in lst:\n",
    "        tmp = person[2].split('.')\n",
    "        tmp = tmp[0].split()\n",
    "        title = tmp[-1]\n",
    "        if not person[4] >= 0:\n",
    "            if person[1] == 1:\n",
    "                person[4] = p1[title][\"age\"] \n",
    "            elif person[1] == 2:\n",
    "                person[4] = p2[title][\"age\"] \n",
    "            else:\n",
    "                try:\n",
    "                    person[4] = p3[title][\"age\"] \n",
    "                except:\n",
    "                    person[4] = 28\n",
    "        if not person[8] >= 0:\n",
    "            if person[1] == 1:\n",
    "                person[8] = p1[title][\"fare\"]\n",
    "            elif person[1] == 2:\n",
    "                person[8] = p2[title][\"fare\"]\n",
    "            else:\n",
    "                person[8] = p3[title][\"fare\"]\n"
   ]
  },
  {
   "cell_type": "code",
   "execution_count": 5,
   "metadata": {},
   "outputs": [],
   "source": [
    "testloader = np.array(pd.read_csv(\"test.csv\"))\n",
    "p1, p2, p3 = see_survived_by_age_test(testloader)\n",
    "assign_age_fare_to_unknown_test(testloader, p1, p2, p3)\n",
    "testloader = np.delete(testloader, 0, axis=1)\n",
    "testloader = np.delete(testloader, 1, axis=1)\n",
    "testloader = np.delete(testloader, 5, axis=1)\n",
    "testloader = testloader[:, :-2]\n",
    "testloader[:, 1] = np.where(testloader[:, 1] == \"male\", 0, 1)\n",
    "testloader = testloader.astype(float)"
   ]
  },
  {
   "cell_type": "markdown",
   "metadata": {},
   "source": [
    "Train,Test Input Features Standard Normalization"
   ]
  },
  {
   "cell_type": "code",
   "execution_count": 6,
   "metadata": {},
   "outputs": [],
   "source": [
    "scaler = StandardScaler()\n",
    "X_train = scaler.fit_transform(X)\n",
    "X_test = scaler.transform(testloader)"
   ]
  },
  {
   "cell_type": "markdown",
   "metadata": {},
   "source": [
    "## Model Building and Training"
   ]
  },
  {
   "cell_type": "markdown",
   "metadata": {},
   "source": [
    "### SVM Kernel"
   ]
  },
  {
   "cell_type": "markdown",
   "metadata": {},
   "source": [
    "SVM model with rbf"
   ]
  },
  {
   "cell_type": "code",
   "execution_count": 7,
   "metadata": {},
   "outputs": [],
   "source": [
    "svm_model = svm.SVC(kernel='rbf')"
   ]
  },
  {
   "cell_type": "markdown",
   "metadata": {},
   "source": [
    "Hyperparameter tuning with 5-fold validation"
   ]
  },
  {
   "cell_type": "code",
   "execution_count": 8,
   "metadata": {},
   "outputs": [],
   "source": [
    "# svm_model = svm.SVC(kernel='rbf')\n",
    "# param_grid = {'C': [0.001, 0.01, 0.1, 1, 10, 100, 200, 300]}\n",
    "# num_folds = 5\n",
    "# kf = KFold(n_splits=num_folds, shuffle=True, random_state=32)\n",
    "# grid_search = GridSearchCV(svm_model, param_grid, cv=kf, scoring='accuracy')\n",
    "# grid_search.fit(X_train, y)\n",
    "# best_C = grid_search.best_params_['C']\n",
    "# print(f\"Best value for C: {best_C}\")"
   ]
  },
  {
   "cell_type": "markdown",
   "metadata": {},
   "source": [
    "Train with the best hyperparameter "
   ]
  },
  {
   "cell_type": "code",
   "execution_count": 9,
   "metadata": {},
   "outputs": [],
   "source": [
    "best_C = 1.0\n",
    "clf = svm.SVC(C=best_C, kernel='rbf')\n",
    "clf.fit(X_train, y)\n",
    "output = clf.predict(X_test)"
   ]
  },
  {
   "cell_type": "markdown",
   "metadata": {},
   "source": [
    "Output submission file"
   ]
  },
  {
   "cell_type": "code",
   "execution_count": 10,
   "metadata": {},
   "outputs": [],
   "source": [
    "f = open('submission1.csv', 'w', newline='')\n",
    "writer = csv.writer(f)\n",
    "writer.writerow(['PassengerId', 'Survived'])\n",
    "for i in range(len(output)):\n",
    "    writer.writerow([892+i, int(output[i])])\n",
    "f.close()"
   ]
  },
  {
   "cell_type": "markdown",
   "metadata": {},
   "source": [
    "Final Accuracy for SVM kernel = rbf with Regularization parameter = 1 is 0.77511"
   ]
  },
  {
   "cell_type": "markdown",
   "metadata": {},
   "source": [
    "## Neural Networks"
   ]
  },
  {
   "cell_type": "markdown",
   "metadata": {},
   "source": [
    "MLP model"
   ]
  },
  {
   "cell_type": "code",
   "execution_count": 11,
   "metadata": {},
   "outputs": [],
   "source": [
    "mlp_model = MLPClassifier(max_iter=2000) "
   ]
  },
  {
   "cell_type": "markdown",
   "metadata": {},
   "source": [
    "Hyperparameter tuning with 5-fold validation"
   ]
  },
  {
   "cell_type": "code",
   "execution_count": 12,
   "metadata": {},
   "outputs": [
    {
     "name": "stdout",
     "output_type": "stream",
     "text": [
      "Best value for alpha: 1. Best value for learning rate: 0.001Best value for hidden lay size: (32, 16, 8)\n"
     ]
    }
   ],
   "source": [
    "# mlp_model = MLPClassifier(max_iter=2000) \n",
    "# param_grid = {'alpha': [1e-1, 1, 5, 10, 50], \n",
    "#               'hidden_layer_sizes': [(32, 16, 8), (16, 8, 4), (32, 16, 4)],\n",
    "#               'learning_rate_init': [1e-4, 1e-3, 1e-2, 1e-1]}\n",
    "# num_folds = 5\n",
    "# kf = KFold(n_splits=num_folds, shuffle=True, random_state=32)\n",
    "# grid_search = GridSearchCV(mlp_model, param_grid, cv=kf, scoring='accuracy')\n",
    "# grid_search.fit(X_train, y)\n",
    "# best_alpha = grid_search.best_params_['alpha']\n",
    "# best_hl = grid_search.best_params_['hidden_layer_sizes']\n",
    "# best_lr = grid_search.best_params_['learning_rate_init']\n",
    "# print(f\"Best value for alpha: {best_alpha}. Best value for learning rate: {best_lr}, Best value for hidden lay size: {best_hl}\")"
   ]
  },
  {
   "cell_type": "markdown",
   "metadata": {},
   "source": [
    "Train with the best hyperparameter "
   ]
  },
  {
   "cell_type": "code",
   "execution_count": 20,
   "metadata": {},
   "outputs": [],
   "source": [
    "best_alpha = 1\n",
    "best_hl = (32, 16, 8)\n",
    "best_lr = 0.001\n",
    "clf = MLPClassifier(alpha=best_alpha, hidden_layer_sizes=best_hl, learning_rate_init = best_lr, max_iter=2000)\n",
    "clf.fit(X_train, y)\n",
    "output = clf.predict(X_test)"
   ]
  },
  {
   "cell_type": "markdown",
   "metadata": {},
   "source": [
    "Output submission file"
   ]
  },
  {
   "cell_type": "code",
   "execution_count": 21,
   "metadata": {},
   "outputs": [],
   "source": [
    "f = open('submission2.csv', 'w', newline='')\n",
    "writer = csv.writer(f)\n",
    "writer.writerow(['PassengerId', 'Survived'])\n",
    "for i in range(len(output)):\n",
    "    writer.writerow([892+i, int(output[i])])\n",
    "f.close()"
   ]
  },
  {
   "cell_type": "markdown",
   "metadata": {},
   "source": [
    "Final Accuracy for Neural Network MLP with alpha = 2, learning rate = 0.0001, hidden size = (32, 16, 8) is 0.77751"
   ]
  },
  {
   "cell_type": "markdown",
   "metadata": {},
   "source": [
    "## Tree-based"
   ]
  },
  {
   "cell_type": "markdown",
   "metadata": {},
   "source": [
    "Decision Tree Classifier model"
   ]
  },
  {
   "cell_type": "code",
   "execution_count": 22,
   "metadata": {},
   "outputs": [],
   "source": [
    "tree_model = DecisionTreeClassifier() "
   ]
  },
  {
   "cell_type": "markdown",
   "metadata": {},
   "source": [
    "Hyperparameter tuning with 5-fold validation"
   ]
  },
  {
   "cell_type": "code",
   "execution_count": 45,
   "metadata": {},
   "outputs": [
    {
     "name": "stdout",
     "output_type": "stream",
     "text": [
      "Best Hyperparameters: {'max_depth': 5, 'min_samples_leaf': 2, 'min_samples_split': 15, 'random_state': 16, 'splitter': 'random'}\n"
     ]
    }
   ],
   "source": [
    "# tree_model = DecisionTreeClassifier() \n",
    "\n",
    "# param_grid = {\n",
    "#     'splitter': ['best', 'random'],\n",
    "#     'max_depth': [None, 5, 10, 20],\n",
    "#     'min_samples_split': [2, 5, 10, 15],\n",
    "#     'min_samples_leaf': [1, 2, 4, 8],\n",
    "#     'random_state': [8, 16, 32, 64]\n",
    "# }\n",
    "\n",
    "# num_folds = 5\n",
    "# kf = KFold(n_splits=num_folds, shuffle=True, random_state=32)\n",
    "# grid_search = GridSearchCV(tree_model, param_grid, cv=kf, scoring='accuracy')\n",
    "# grid_search.fit(X_train, y)\n",
    "\n",
    "# best_params = grid_search.best_params_\n",
    "# print(\"Best Hyperparameters:\", best_params)"
   ]
  },
  {
   "cell_type": "markdown",
   "metadata": {},
   "source": [
    "Train with the best hyperparameter "
   ]
  },
  {
   "cell_type": "code",
   "execution_count": 46,
   "metadata": {},
   "outputs": [],
   "source": [
    "clf = DecisionTreeClassifier(max_depth=5, min_samples_leaf=2, min_samples_split=15, random_state=16, splitter=\"random\")\n",
    "clf.fit(X_train, y)\n",
    "output = clf.predict(X_test)"
   ]
  },
  {
   "cell_type": "markdown",
   "metadata": {},
   "source": [
    "Output submission file"
   ]
  },
  {
   "cell_type": "code",
   "execution_count": 38,
   "metadata": {},
   "outputs": [],
   "source": [
    "f = open('submission3.csv', 'w', newline='')\n",
    "writer = csv.writer(f)\n",
    "writer.writerow(['PassengerId', 'Survived'])\n",
    "for i in range(len(output)):\n",
    "    writer.writerow([892+i, int(output[i])])\n",
    "f.close()"
   ]
  },
  {
   "cell_type": "markdown",
   "metadata": {},
   "source": [
    "Final Accuracy for DecisionTreeClassifier with the best parameters is 0.78229"
   ]
  },
  {
   "cell_type": "markdown",
   "metadata": {},
   "source": [
    "## Results and Performances"
   ]
  },
  {
   "cell_type": "code",
   "execution_count": 41,
   "metadata": {},
   "outputs": [
    {
     "data": {
      "image/png": "[encoded data removed]",
      "text/plain": [
       "<Figure size 1000x600 with 3 Axes>"
      ]
     },
     "metadata": {},
     "output_type": "display_data"
    }
   ],
   "source": [
    "#Reference:https://scikit-learn.org/stable/auto_examples/model_selection/plot_learning_curve.html\n",
    "svm_model = svm.SVC(kernel='rbf', C=1.0)\n",
    "mlp_model = MLPClassifier(max_iter=2000, alpha=1.0, learning_rate_init=0.001, hidden_layer_sizes=(32, 16, 8)) \n",
    "tree_model = DecisionTreeClassifier(max_depth=5, min_samples_leaf=2, min_samples_split=15, random_state=16, splitter=\"random\")\n",
    "\n",
    "fig, ax = plt.subplots(nrows=1, ncols=3, figsize=(10, 6), sharey=True)\n",
    "common_params = {\n",
    "    \"X\": X,\n",
    "    \"y\": y,\n",
    "    \"train_sizes\": np.linspace(0.1, 1.0, 5),\n",
    "    \"cv\": ShuffleSplit(n_splits=50, test_size=0.2, random_state=32),\n",
    "    \"score_type\": \"both\",\n",
    "    \"n_jobs\": 4,\n",
    "    \"line_kw\": {\"marker\": \"o\"},\n",
    "    \"std_display_style\": \"fill_between\",\n",
    "    \"score_name\": \"Accuracy\",\n",
    "}\n",
    "\n",
    "for ax_idx, estimator in enumerate([svm_model, mlp_model, tree_model]):\n",
    "    LearningCurveDisplay.from_estimator(estimator, **common_params, ax=ax[ax_idx])\n",
    "    handles, label = ax[ax_idx].get_legend_handles_labels()\n",
    "    ax[ax_idx].legend(handles[:2], [\"Training Score\", \"Test Score\"])\n",
    "    ax[ax_idx].set_title(f\"Learning Curve for {estimator.__class__.__name__}\")"
   ]
  }
 ],
 "metadata": {
  "kernelspec": {
   "display_name": "Python 3",
   "language": "python",
   "name": "python3"
  },
  "language_info": {
   "codemirror_mode": {
    "name": "ipython",
    "version": 3
   },
   "file_extension": ".py",
   "mimetype": "text/x-python",
   "name": "python",
   "nbconvert_exporter": "python",
   "pygments_lexer": "ipython3",
   "version": "3.11.5"
  }
 },
 "nbformat": 4,
 "nbformat_minor": 2
}
